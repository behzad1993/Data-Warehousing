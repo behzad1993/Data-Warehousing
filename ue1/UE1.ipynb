{
 "cells": [
  {
   "cell_type": "code",
   "execution_count": 60,
   "metadata": {},
   "outputs": [
    {
     "data": {
      "text/html": [
       "<div>\n",
       "<style scoped>\n",
       "    .dataframe tbody tr th:only-of-type {\n",
       "        vertical-align: middle;\n",
       "    }\n",
       "\n",
       "    .dataframe tbody tr th {\n",
       "        vertical-align: top;\n",
       "    }\n",
       "\n",
       "    .dataframe thead th {\n",
       "        text-align: right;\n",
       "    }\n",
       "</style>\n",
       "<table border=\"1\" class=\"dataframe\">\n",
       "  <thead>\n",
       "    <tr style=\"text-align: right;\">\n",
       "      <th></th>\n",
       "      <th>INCIDENT_NUMBER</th>\n",
       "      <th>OFFENSE_CODE</th>\n",
       "      <th>OFFENSE_CODE_GROUP</th>\n",
       "      <th>OFFENSE_DESCRIPTION</th>\n",
       "      <th>DISTRICT</th>\n",
       "      <th>REPORTING_AREA</th>\n",
       "      <th>SHOOTING</th>\n",
       "      <th>OCCURRED_ON_DATE</th>\n",
       "      <th>YEAR</th>\n",
       "      <th>MONTH</th>\n",
       "      <th>DAY_OF_WEEK</th>\n",
       "      <th>HOUR</th>\n",
       "      <th>UCR_PART</th>\n",
       "      <th>STREET</th>\n",
       "      <th>Lat</th>\n",
       "      <th>Long</th>\n",
       "      <th>Location</th>\n",
       "    </tr>\n",
       "  </thead>\n",
       "  <tbody>\n",
       "    <tr>\n",
       "      <th>0</th>\n",
       "      <td>I182070945</td>\n",
       "      <td>619</td>\n",
       "      <td>Larceny</td>\n",
       "      <td>LARCENY ALL OTHERS</td>\n",
       "      <td>D14</td>\n",
       "      <td>808</td>\n",
       "      <td>NaN</td>\n",
       "      <td>2018-09-02 13:00:00</td>\n",
       "      <td>2018</td>\n",
       "      <td>9</td>\n",
       "      <td>Sunday</td>\n",
       "      <td>13</td>\n",
       "      <td>Part One</td>\n",
       "      <td>LINCOLN ST</td>\n",
       "      <td>42.357791</td>\n",
       "      <td>-71.139371</td>\n",
       "      <td>(42.35779134, -71.13937053)</td>\n",
       "    </tr>\n",
       "    <tr>\n",
       "      <th>1</th>\n",
       "      <td>I182070943</td>\n",
       "      <td>1402</td>\n",
       "      <td>Vandalism</td>\n",
       "      <td>VANDALISM</td>\n",
       "      <td>C11</td>\n",
       "      <td>347</td>\n",
       "      <td>NaN</td>\n",
       "      <td>2018-08-21 00:00:00</td>\n",
       "      <td>2018</td>\n",
       "      <td>8</td>\n",
       "      <td>Tuesday</td>\n",
       "      <td>0</td>\n",
       "      <td>Part Two</td>\n",
       "      <td>HECLA ST</td>\n",
       "      <td>42.306821</td>\n",
       "      <td>-71.060300</td>\n",
       "      <td>(42.30682138, -71.06030035)</td>\n",
       "    </tr>\n",
       "    <tr>\n",
       "      <th>2</th>\n",
       "      <td>I182070941</td>\n",
       "      <td>3410</td>\n",
       "      <td>Towed</td>\n",
       "      <td>TOWED MOTOR VEHICLE</td>\n",
       "      <td>D4</td>\n",
       "      <td>151</td>\n",
       "      <td>NaN</td>\n",
       "      <td>2018-09-03 19:27:00</td>\n",
       "      <td>2018</td>\n",
       "      <td>9</td>\n",
       "      <td>Monday</td>\n",
       "      <td>19</td>\n",
       "      <td>Part Three</td>\n",
       "      <td>CAZENOVE ST</td>\n",
       "      <td>42.346589</td>\n",
       "      <td>-71.072429</td>\n",
       "      <td>(42.34658879, -71.07242943)</td>\n",
       "    </tr>\n",
       "    <tr>\n",
       "      <th>3</th>\n",
       "      <td>I182070940</td>\n",
       "      <td>3114</td>\n",
       "      <td>Investigate Property</td>\n",
       "      <td>INVESTIGATE PROPERTY</td>\n",
       "      <td>D4</td>\n",
       "      <td>272</td>\n",
       "      <td>NaN</td>\n",
       "      <td>2018-09-03 21:16:00</td>\n",
       "      <td>2018</td>\n",
       "      <td>9</td>\n",
       "      <td>Monday</td>\n",
       "      <td>21</td>\n",
       "      <td>Part Three</td>\n",
       "      <td>NEWCOMB ST</td>\n",
       "      <td>42.334182</td>\n",
       "      <td>-71.078664</td>\n",
       "      <td>(42.33418175, -71.07866441)</td>\n",
       "    </tr>\n",
       "    <tr>\n",
       "      <th>4</th>\n",
       "      <td>I182070938</td>\n",
       "      <td>3114</td>\n",
       "      <td>Investigate Property</td>\n",
       "      <td>INVESTIGATE PROPERTY</td>\n",
       "      <td>B3</td>\n",
       "      <td>421</td>\n",
       "      <td>NaN</td>\n",
       "      <td>2018-09-03 21:05:00</td>\n",
       "      <td>2018</td>\n",
       "      <td>9</td>\n",
       "      <td>Monday</td>\n",
       "      <td>21</td>\n",
       "      <td>Part Three</td>\n",
       "      <td>DELHI ST</td>\n",
       "      <td>42.275365</td>\n",
       "      <td>-71.090361</td>\n",
       "      <td>(42.27536542, -71.09036101)</td>\n",
       "    </tr>\n",
       "    <tr>\n",
       "      <th>5</th>\n",
       "      <td>I182070936</td>\n",
       "      <td>3820</td>\n",
       "      <td>Motor Vehicle Accident Response</td>\n",
       "      <td>M/V ACCIDENT INVOLVING PEDESTRIAN - INJURY</td>\n",
       "      <td>C11</td>\n",
       "      <td>398</td>\n",
       "      <td>NaN</td>\n",
       "      <td>2018-09-03 21:09:00</td>\n",
       "      <td>2018</td>\n",
       "      <td>9</td>\n",
       "      <td>Monday</td>\n",
       "      <td>21</td>\n",
       "      <td>Part Three</td>\n",
       "      <td>TALBOT AVE</td>\n",
       "      <td>42.290196</td>\n",
       "      <td>-71.071590</td>\n",
       "      <td>(42.29019621, -71.07159012)</td>\n",
       "    </tr>\n",
       "    <tr>\n",
       "      <th>6</th>\n",
       "      <td>I182070933</td>\n",
       "      <td>724</td>\n",
       "      <td>Auto Theft</td>\n",
       "      <td>AUTO THEFT</td>\n",
       "      <td>B2</td>\n",
       "      <td>330</td>\n",
       "      <td>NaN</td>\n",
       "      <td>2018-09-03 21:25:00</td>\n",
       "      <td>2018</td>\n",
       "      <td>9</td>\n",
       "      <td>Monday</td>\n",
       "      <td>21</td>\n",
       "      <td>Part One</td>\n",
       "      <td>NORMANDY ST</td>\n",
       "      <td>42.306072</td>\n",
       "      <td>-71.082733</td>\n",
       "      <td>(42.30607218, -71.08273260)</td>\n",
       "    </tr>\n",
       "    <tr>\n",
       "      <th>7</th>\n",
       "      <td>I182070932</td>\n",
       "      <td>3301</td>\n",
       "      <td>Verbal Disputes</td>\n",
       "      <td>VERBAL DISPUTE</td>\n",
       "      <td>B2</td>\n",
       "      <td>584</td>\n",
       "      <td>NaN</td>\n",
       "      <td>2018-09-03 20:39:37</td>\n",
       "      <td>2018</td>\n",
       "      <td>9</td>\n",
       "      <td>Monday</td>\n",
       "      <td>20</td>\n",
       "      <td>Part Three</td>\n",
       "      <td>LAWN ST</td>\n",
       "      <td>42.327016</td>\n",
       "      <td>-71.105551</td>\n",
       "      <td>(42.32701648, -71.10555088)</td>\n",
       "    </tr>\n",
       "    <tr>\n",
       "      <th>8</th>\n",
       "      <td>I182070931</td>\n",
       "      <td>301</td>\n",
       "      <td>Robbery</td>\n",
       "      <td>ROBBERY - STREET</td>\n",
       "      <td>C6</td>\n",
       "      <td>177</td>\n",
       "      <td>NaN</td>\n",
       "      <td>2018-09-03 20:48:00</td>\n",
       "      <td>2018</td>\n",
       "      <td>9</td>\n",
       "      <td>Monday</td>\n",
       "      <td>20</td>\n",
       "      <td>Part One</td>\n",
       "      <td>MASSACHUSETTS AVE</td>\n",
       "      <td>42.331521</td>\n",
       "      <td>-71.070853</td>\n",
       "      <td>(42.33152148, -71.07085307)</td>\n",
       "    </tr>\n",
       "    <tr>\n",
       "      <th>9</th>\n",
       "      <td>I182070929</td>\n",
       "      <td>3301</td>\n",
       "      <td>Verbal Disputes</td>\n",
       "      <td>VERBAL DISPUTE</td>\n",
       "      <td>C11</td>\n",
       "      <td>364</td>\n",
       "      <td>NaN</td>\n",
       "      <td>2018-09-03 20:38:00</td>\n",
       "      <td>2018</td>\n",
       "      <td>9</td>\n",
       "      <td>Monday</td>\n",
       "      <td>20</td>\n",
       "      <td>Part Three</td>\n",
       "      <td>LESLIE ST</td>\n",
       "      <td>42.295147</td>\n",
       "      <td>-71.058608</td>\n",
       "      <td>(42.29514664, -71.05860832)</td>\n",
       "    </tr>\n",
       "    <tr>\n",
       "      <th>10</th>\n",
       "      <td>I182070928</td>\n",
       "      <td>3301</td>\n",
       "      <td>Verbal Disputes</td>\n",
       "      <td>VERBAL DISPUTE</td>\n",
       "      <td>C6</td>\n",
       "      <td>913</td>\n",
       "      <td>NaN</td>\n",
       "      <td>2018-09-03 19:55:00</td>\n",
       "      <td>2018</td>\n",
       "      <td>9</td>\n",
       "      <td>Monday</td>\n",
       "      <td>19</td>\n",
       "      <td>Part Three</td>\n",
       "      <td>OCEAN VIEW DR</td>\n",
       "      <td>42.319579</td>\n",
       "      <td>-71.040328</td>\n",
       "      <td>(42.31957856, -71.04032766)</td>\n",
       "    </tr>\n",
       "    <tr>\n",
       "      <th>11</th>\n",
       "      <td>I182070927</td>\n",
       "      <td>3114</td>\n",
       "      <td>Investigate Property</td>\n",
       "      <td>INVESTIGATE PROPERTY</td>\n",
       "      <td>C6</td>\n",
       "      <td>936</td>\n",
       "      <td>NaN</td>\n",
       "      <td>2018-09-03 20:19:00</td>\n",
       "      <td>2018</td>\n",
       "      <td>9</td>\n",
       "      <td>Monday</td>\n",
       "      <td>20</td>\n",
       "      <td>Part Three</td>\n",
       "      <td>DALESSIO CT</td>\n",
       "      <td>42.340115</td>\n",
       "      <td>-71.053390</td>\n",
       "      <td>(42.34011469, -71.05339029)</td>\n",
       "    </tr>\n",
       "    <tr>\n",
       "      <th>12</th>\n",
       "      <td>I182070923</td>\n",
       "      <td>3108</td>\n",
       "      <td>Fire Related Reports</td>\n",
       "      <td>FIRE REPORT - HOUSE, BUILDING, ETC.</td>\n",
       "      <td>D4</td>\n",
       "      <td>139</td>\n",
       "      <td>NaN</td>\n",
       "      <td>2018-09-03 19:58:00</td>\n",
       "      <td>2018</td>\n",
       "      <td>9</td>\n",
       "      <td>Monday</td>\n",
       "      <td>19</td>\n",
       "      <td>Part Three</td>\n",
       "      <td>MARLBOROUGH ST</td>\n",
       "      <td>42.350388</td>\n",
       "      <td>-71.087853</td>\n",
       "      <td>(42.35038760, -71.08785290)</td>\n",
       "    </tr>\n",
       "    <tr>\n",
       "      <th>13</th>\n",
       "      <td>I182070922</td>\n",
       "      <td>2647</td>\n",
       "      <td>Other</td>\n",
       "      <td>THREATS TO DO BODILY HARM</td>\n",
       "      <td>B3</td>\n",
       "      <td>429</td>\n",
       "      <td>NaN</td>\n",
       "      <td>2018-09-03 20:39:00</td>\n",
       "      <td>2018</td>\n",
       "      <td>9</td>\n",
       "      <td>Monday</td>\n",
       "      <td>20</td>\n",
       "      <td>Part Two</td>\n",
       "      <td>WOODROW AVE</td>\n",
       "      <td>42.286470</td>\n",
       "      <td>-71.087147</td>\n",
       "      <td>(42.28647012, -71.08714661)</td>\n",
       "    </tr>\n",
       "    <tr>\n",
       "      <th>14</th>\n",
       "      <td>I182070921</td>\n",
       "      <td>3201</td>\n",
       "      <td>Property Lost</td>\n",
       "      <td>PROPERTY - LOST</td>\n",
       "      <td>B3</td>\n",
       "      <td>469</td>\n",
       "      <td>NaN</td>\n",
       "      <td>2018-09-02 14:00:00</td>\n",
       "      <td>2018</td>\n",
       "      <td>9</td>\n",
       "      <td>Sunday</td>\n",
       "      <td>14</td>\n",
       "      <td>Part Three</td>\n",
       "      <td>MULVEY ST</td>\n",
       "      <td>42.279241</td>\n",
       "      <td>-71.096674</td>\n",
       "      <td>(42.27924052, -71.09667382)</td>\n",
       "    </tr>\n",
       "    <tr>\n",
       "      <th>15</th>\n",
       "      <td>I182070920</td>\n",
       "      <td>3006</td>\n",
       "      <td>Medical Assistance</td>\n",
       "      <td>SICK/INJURED/MEDICAL - PERSON</td>\n",
       "      <td>NaN</td>\n",
       "      <td></td>\n",
       "      <td>NaN</td>\n",
       "      <td>2018-09-03 19:43:00</td>\n",
       "      <td>2018</td>\n",
       "      <td>9</td>\n",
       "      <td>Monday</td>\n",
       "      <td>19</td>\n",
       "      <td>Part Three</td>\n",
       "      <td>NaN</td>\n",
       "      <td>42.352875</td>\n",
       "      <td>-71.073830</td>\n",
       "      <td>(42.35287456, -71.07382970)</td>\n",
       "    </tr>\n",
       "    <tr>\n",
       "      <th>16</th>\n",
       "      <td>I182070919</td>\n",
       "      <td>3301</td>\n",
       "      <td>Verbal Disputes</td>\n",
       "      <td>VERBAL DISPUTE</td>\n",
       "      <td>C11</td>\n",
       "      <td>341</td>\n",
       "      <td>NaN</td>\n",
       "      <td>2018-09-03 18:52:00</td>\n",
       "      <td>2018</td>\n",
       "      <td>9</td>\n",
       "      <td>Monday</td>\n",
       "      <td>18</td>\n",
       "      <td>Part Three</td>\n",
       "      <td>STONEHURST ST</td>\n",
       "      <td>42.305264</td>\n",
       "      <td>-71.066838</td>\n",
       "      <td>(42.30526428, -71.06683755)</td>\n",
       "    </tr>\n",
       "    <tr>\n",
       "      <th>17</th>\n",
       "      <td>I182070918</td>\n",
       "      <td>3305</td>\n",
       "      <td>Assembly or Gathering Violations</td>\n",
       "      <td>DEMONSTRATIONS/RIOT</td>\n",
       "      <td>D4</td>\n",
       "      <td>130</td>\n",
       "      <td>NaN</td>\n",
       "      <td>2018-09-03 17:00:00</td>\n",
       "      <td>2018</td>\n",
       "      <td>9</td>\n",
       "      <td>Monday</td>\n",
       "      <td>17</td>\n",
       "      <td>Part Three</td>\n",
       "      <td>HUNTINGTON AVE</td>\n",
       "      <td>42.348577</td>\n",
       "      <td>-71.077720</td>\n",
       "      <td>(42.34857652, -71.07772012)</td>\n",
       "    </tr>\n",
       "    <tr>\n",
       "      <th>18</th>\n",
       "      <td>I182070917</td>\n",
       "      <td>2647</td>\n",
       "      <td>Other</td>\n",
       "      <td>THREATS TO DO BODILY HARM</td>\n",
       "      <td>B2</td>\n",
       "      <td>901</td>\n",
       "      <td>NaN</td>\n",
       "      <td>2018-09-03 19:52:00</td>\n",
       "      <td>2018</td>\n",
       "      <td>9</td>\n",
       "      <td>Monday</td>\n",
       "      <td>19</td>\n",
       "      <td>Part Two</td>\n",
       "      <td>HORADAN WAY</td>\n",
       "      <td>42.333717</td>\n",
       "      <td>-71.096658</td>\n",
       "      <td>(42.33371742, -71.09665806)</td>\n",
       "    </tr>\n",
       "    <tr>\n",
       "      <th>19</th>\n",
       "      <td>I182070915</td>\n",
       "      <td>614</td>\n",
       "      <td>Larceny From Motor Vehicle</td>\n",
       "      <td>LARCENY THEFT FROM MV - NON-ACCESSORY</td>\n",
       "      <td>B2</td>\n",
       "      <td>181</td>\n",
       "      <td>NaN</td>\n",
       "      <td>2018-09-02 18:00:00</td>\n",
       "      <td>2018</td>\n",
       "      <td>9</td>\n",
       "      <td>Sunday</td>\n",
       "      <td>18</td>\n",
       "      <td>Part One</td>\n",
       "      <td>SHIRLEY ST</td>\n",
       "      <td>42.325695</td>\n",
       "      <td>-71.068168</td>\n",
       "      <td>(42.32569490, -71.06816778)</td>\n",
       "    </tr>\n",
       "  </tbody>\n",
       "</table>\n",
       "</div>"
      ],
      "text/plain": [
       "   INCIDENT_NUMBER  OFFENSE_CODE                OFFENSE_CODE_GROUP  \\\n",
       "0       I182070945           619                           Larceny   \n",
       "1       I182070943          1402                         Vandalism   \n",
       "2       I182070941          3410                             Towed   \n",
       "3       I182070940          3114              Investigate Property   \n",
       "4       I182070938          3114              Investigate Property   \n",
       "5       I182070936          3820   Motor Vehicle Accident Response   \n",
       "6       I182070933           724                        Auto Theft   \n",
       "7       I182070932          3301                   Verbal Disputes   \n",
       "8       I182070931           301                           Robbery   \n",
       "9       I182070929          3301                   Verbal Disputes   \n",
       "10      I182070928          3301                   Verbal Disputes   \n",
       "11      I182070927          3114              Investigate Property   \n",
       "12      I182070923          3108              Fire Related Reports   \n",
       "13      I182070922          2647                             Other   \n",
       "14      I182070921          3201                     Property Lost   \n",
       "15      I182070920          3006                Medical Assistance   \n",
       "16      I182070919          3301                   Verbal Disputes   \n",
       "17      I182070918          3305  Assembly or Gathering Violations   \n",
       "18      I182070917          2647                             Other   \n",
       "19      I182070915           614        Larceny From Motor Vehicle   \n",
       "\n",
       "                           OFFENSE_DESCRIPTION DISTRICT REPORTING_AREA  \\\n",
       "0                           LARCENY ALL OTHERS      D14            808   \n",
       "1                                    VANDALISM      C11            347   \n",
       "2                          TOWED MOTOR VEHICLE       D4            151   \n",
       "3                         INVESTIGATE PROPERTY       D4            272   \n",
       "4                         INVESTIGATE PROPERTY       B3            421   \n",
       "5   M/V ACCIDENT INVOLVING PEDESTRIAN - INJURY      C11            398   \n",
       "6                                   AUTO THEFT       B2            330   \n",
       "7                               VERBAL DISPUTE       B2            584   \n",
       "8                             ROBBERY - STREET       C6            177   \n",
       "9                               VERBAL DISPUTE      C11            364   \n",
       "10                              VERBAL DISPUTE       C6            913   \n",
       "11                        INVESTIGATE PROPERTY       C6            936   \n",
       "12         FIRE REPORT - HOUSE, BUILDING, ETC.       D4            139   \n",
       "13                   THREATS TO DO BODILY HARM       B3            429   \n",
       "14                             PROPERTY - LOST       B3            469   \n",
       "15               SICK/INJURED/MEDICAL - PERSON      NaN                  \n",
       "16                              VERBAL DISPUTE      C11            341   \n",
       "17                         DEMONSTRATIONS/RIOT       D4            130   \n",
       "18                   THREATS TO DO BODILY HARM       B2            901   \n",
       "19       LARCENY THEFT FROM MV - NON-ACCESSORY       B2            181   \n",
       "\n",
       "   SHOOTING     OCCURRED_ON_DATE  YEAR  MONTH DAY_OF_WEEK  HOUR    UCR_PART  \\\n",
       "0       NaN  2018-09-02 13:00:00  2018      9      Sunday    13    Part One   \n",
       "1       NaN  2018-08-21 00:00:00  2018      8     Tuesday     0    Part Two   \n",
       "2       NaN  2018-09-03 19:27:00  2018      9      Monday    19  Part Three   \n",
       "3       NaN  2018-09-03 21:16:00  2018      9      Monday    21  Part Three   \n",
       "4       NaN  2018-09-03 21:05:00  2018      9      Monday    21  Part Three   \n",
       "5       NaN  2018-09-03 21:09:00  2018      9      Monday    21  Part Three   \n",
       "6       NaN  2018-09-03 21:25:00  2018      9      Monday    21    Part One   \n",
       "7       NaN  2018-09-03 20:39:37  2018      9      Monday    20  Part Three   \n",
       "8       NaN  2018-09-03 20:48:00  2018      9      Monday    20    Part One   \n",
       "9       NaN  2018-09-03 20:38:00  2018      9      Monday    20  Part Three   \n",
       "10      NaN  2018-09-03 19:55:00  2018      9      Monday    19  Part Three   \n",
       "11      NaN  2018-09-03 20:19:00  2018      9      Monday    20  Part Three   \n",
       "12      NaN  2018-09-03 19:58:00  2018      9      Monday    19  Part Three   \n",
       "13      NaN  2018-09-03 20:39:00  2018      9      Monday    20    Part Two   \n",
       "14      NaN  2018-09-02 14:00:00  2018      9      Sunday    14  Part Three   \n",
       "15      NaN  2018-09-03 19:43:00  2018      9      Monday    19  Part Three   \n",
       "16      NaN  2018-09-03 18:52:00  2018      9      Monday    18  Part Three   \n",
       "17      NaN  2018-09-03 17:00:00  2018      9      Monday    17  Part Three   \n",
       "18      NaN  2018-09-03 19:52:00  2018      9      Monday    19    Part Two   \n",
       "19      NaN  2018-09-02 18:00:00  2018      9      Sunday    18    Part One   \n",
       "\n",
       "               STREET        Lat       Long                     Location  \n",
       "0          LINCOLN ST  42.357791 -71.139371  (42.35779134, -71.13937053)  \n",
       "1            HECLA ST  42.306821 -71.060300  (42.30682138, -71.06030035)  \n",
       "2         CAZENOVE ST  42.346589 -71.072429  (42.34658879, -71.07242943)  \n",
       "3          NEWCOMB ST  42.334182 -71.078664  (42.33418175, -71.07866441)  \n",
       "4            DELHI ST  42.275365 -71.090361  (42.27536542, -71.09036101)  \n",
       "5          TALBOT AVE  42.290196 -71.071590  (42.29019621, -71.07159012)  \n",
       "6         NORMANDY ST  42.306072 -71.082733  (42.30607218, -71.08273260)  \n",
       "7             LAWN ST  42.327016 -71.105551  (42.32701648, -71.10555088)  \n",
       "8   MASSACHUSETTS AVE  42.331521 -71.070853  (42.33152148, -71.07085307)  \n",
       "9           LESLIE ST  42.295147 -71.058608  (42.29514664, -71.05860832)  \n",
       "10      OCEAN VIEW DR  42.319579 -71.040328  (42.31957856, -71.04032766)  \n",
       "11        DALESSIO CT  42.340115 -71.053390  (42.34011469, -71.05339029)  \n",
       "12     MARLBOROUGH ST  42.350388 -71.087853  (42.35038760, -71.08785290)  \n",
       "13        WOODROW AVE  42.286470 -71.087147  (42.28647012, -71.08714661)  \n",
       "14          MULVEY ST  42.279241 -71.096674  (42.27924052, -71.09667382)  \n",
       "15                NaN  42.352875 -71.073830  (42.35287456, -71.07382970)  \n",
       "16      STONEHURST ST  42.305264 -71.066838  (42.30526428, -71.06683755)  \n",
       "17     HUNTINGTON AVE  42.348577 -71.077720  (42.34857652, -71.07772012)  \n",
       "18        HORADAN WAY  42.333717 -71.096658  (42.33371742, -71.09665806)  \n",
       "19         SHIRLEY ST  42.325695 -71.068168  (42.32569490, -71.06816778)  "
      ]
     },
     "execution_count": 60,
     "metadata": {},
     "output_type": "execute_result"
    }
   ],
   "source": [
    "import numpy as np\n",
    "import pandas as pd\n",
    "import matplotlib.pyplot as plt\n",
    "#plt.rcParams[\"figure.figsize\"] = (20,10)\n",
    "\n",
    "crime = pd.read_csv(\"crime.csv\", index_col=False, sep=',', encoding='windows-1252')\n",
    "crime[0:20]"
   ]
  },
  {
   "cell_type": "code",
   "execution_count": 34,
   "metadata": {},
   "outputs": [
    {
     "data": {
      "text/plain": [
       "<AxesSubplot:>"
      ]
     },
     "execution_count": 34,
     "metadata": {},
     "output_type": "execute_result"
    },
    {
     "data": {
      "image/png": "[encoded data removed]",
      "text/plain": [
       "<Figure size 432x288 with 1 Axes>"
      ]
     },
     "metadata": {
      "needs_background": "light"
     },
     "output_type": "display_data"
    }
   ],
   "source": [
    "# 1. Wie hat sich die Gesamtanzahl der Straftaten im Laufe der Jahre entwickelt?\n",
    "crime[\"YEAR\"].value_counts().sort_index().plot.bar()"
   ]
  },
  {
   "cell_type": "code",
   "execution_count": 35,
   "metadata": {},
   "outputs": [
    {
     "data": {
      "image/png": "[encoded data removed]",
      "text/plain": [
       "<Figure size 432x288 with 1 Axes>"
      ]
     },
     "metadata": {
      "needs_background": "light"
     },
     "output_type": "display_data"
    }
   ],
   "source": [
    "# 1.1 Welche Straftaten sind am häufigsten?\n",
    "most_frequent_crime = crime['OFFENSE_CODE_GROUP'].value_counts()[:20].sort_values(ascending=False)\n",
    "most_frequent_crime.plot(kind='bar')\n",
    "plt.show()"
   ]
  },
  {
   "cell_type": "code",
   "execution_count": 36,
   "metadata": {},
   "outputs": [
    {
     "data": {
      "text/plain": [
       "<AxesSubplot:>"
      ]
     },
     "execution_count": 36,
     "metadata": {},
     "output_type": "execute_result"
    },
    {
     "data": {
      "image/png": "[encoded data removed]",
      "text/plain": [
       "<Figure size 432x288 with 1 Axes>"
      ]
     },
     "metadata": {
      "needs_background": "light"
     },
     "output_type": "display_data"
    }
   ],
   "source": [
    "# 1.2 Wie hat sich die Zahl der schweren Straftaten im Laufe der Jahre entwickelt?\n",
    "part_one_crime = crime.loc[crime.UCR_PART == \"Part One\"]\n",
    "part_one_crime.YEAR.value_counts().sort_index().plot.bar()"
   ]
  },
  {
   "cell_type": "code",
   "execution_count": 59,
   "metadata": {},
   "outputs": [
    {
     "data": {
      "text/plain": [
       "<AxesSubplot:xlabel='YEAR'>"
      ]
     },
     "execution_count": 59,
     "metadata": {},
     "output_type": "execute_result"
    },
    {
     "data": {
      "image/png": "[encoded data removed]",
      "text/plain": [
       "<Figure size 432x288 with 1 Axes>"
      ]
     },
     "metadata": {
      "needs_background": "light"
     },
     "output_type": "display_data"
    }
   ],
   "source": [
    "# 2.1 In welchen Stadtgebieten werden die meisten schweren Straftaten ('Part One') begangen?\n",
    "part_one_crime.groupby('DISTRICT').YEAR.value_counts().unstack(0).plot.bar()\n"
   ]
  },
  {
   "cell_type": "code",
   "execution_count": 38,
   "metadata": {},
   "outputs": [
    {
     "data": {
      "text/plain": [
       "<AxesSubplot:>"
      ]
     },
     "execution_count": 38,
     "metadata": {},
     "output_type": "execute_result"
    },
    {
     "data": {
      "image/png": "[encoded data removed]",
      "text/plain": [
       "<Figure size 432x288 with 1 Axes>"
      ]
     },
     "metadata": {
      "needs_background": "light"
     },
     "output_type": "display_data"
    }
   ],
   "source": [
    "# 2.2 Welche Arten von schweren Straftaten ('Part One') treten in dem Stadtgebiet 'B2' am häufigsten auf?\n",
    "part_one_crime_in_B2 = part_one_crime.loc[crime.DISTRICT == 'B2']\n",
    "part_one_crime_in_B2['OFFENSE_CODE_GROUP'].value_counts().plot.bar()"
   ]
  },
  {
   "cell_type": "code",
   "execution_count": 39,
   "metadata": {},
   "outputs": [
    {
     "data": {
      "text/plain": [
       "<AxesSubplot:>"
      ]
     },
     "execution_count": 39,
     "metadata": {},
     "output_type": "execute_result"
    },
    {
     "data": {
      "image/png": "[encoded data removed]",
      "text/plain": [
       "<Figure size 432x288 with 1 Axes>"
      ]
     },
     "metadata": {
      "needs_background": "light"
     },
     "output_type": "display_data"
    }
   ],
   "source": [
    "# 3 a) Existieren (a) Uhrzeiten, an denen mehr schwere Verbrechen ('Part One') stattfinden?\n",
    "part_one_crime['HOUR'].value_counts().sort_index().plot.bar()"
   ]
  },
  {
   "cell_type": "code",
   "execution_count": 40,
   "metadata": {},
   "outputs": [
    {
     "data": {
      "text/plain": [
       "<AxesSubplot:>"
      ]
     },
     "execution_count": 40,
     "metadata": {},
     "output_type": "execute_result"
    },
    {
     "data": {
      "image/png": "[encoded data removed]",
      "text/plain": [
       "<Figure size 432x288 with 1 Axes>"
      ]
     },
     "metadata": {
      "needs_background": "light"
     },
     "output_type": "display_data"
    }
   ],
   "source": [
    "# 3 b) Existieren Tage, an denen mehr schwere Verbrechen ('Part One') stattfinden?\n",
    "part_one_crime['DAY_OF_WEEK'].value_counts().sort_index().plot.bar()"
   ]
  },
  {
   "cell_type": "code",
   "execution_count": 41,
   "metadata": {},
   "outputs": [
    {
     "data": {
      "text/plain": [
       "<AxesSubplot:>"
      ]
     },
     "execution_count": 41,
     "metadata": {},
     "output_type": "execute_result"
    },
    {
     "data": {
      "image/png": "[encoded data removed]",
      "text/plain": [
       "<Figure size 432x288 with 1 Axes>"
      ]
     },
     "metadata": {
      "needs_background": "light"
     },
     "output_type": "display_data"
    }
   ],
   "source": [
    "# 3 c) Existieren Monate, an denen mehr schwere Verbrechen ('Part One') stattfinden?\n",
    "part_one_crime['MONTH'].value_counts().sort_index().plot.bar()"
   ]
  },
  {
   "cell_type": "code",
   "execution_count": 15,
   "metadata": {},
   "outputs": [],
   "source": [
    "# 3.2 Finden Straftaten eher nachts oder tagsüber statt?\n",
    "# Straftaten finden eher tagsüber statt, siehe 3 a).\n",
    "\n",
    "# 3.3 Wann werden somit die meisten Polizisten benötigt?\n",
    "# freitags zwischen 16 und 18 Uhr Im Juli und August"
   ]
  },
  {
   "cell_type": "code",
   "execution_count": 16,
   "metadata": {},
   "outputs": [
    {
     "data": {
      "text/html": [
       "<div>\n",
       "<style scoped>\n",
       "    .dataframe tbody tr th:only-of-type {\n",
       "        vertical-align: middle;\n",
       "    }\n",
       "\n",
       "    .dataframe tbody tr th {\n",
       "        vertical-align: top;\n",
       "    }\n",
       "\n",
       "    .dataframe thead th {\n",
       "        text-align: right;\n",
       "    }\n",
       "</style>\n",
       "<table border=\"1\" class=\"dataframe\">\n",
       "  <thead>\n",
       "    <tr style=\"text-align: right;\">\n",
       "      <th></th>\n",
       "      <th>INCIDENT_NUMBER</th>\n",
       "      <th>OFFENSE_CODE</th>\n",
       "      <th>OFFENSE_CODE_GROUP</th>\n",
       "      <th>OFFENSE_DESCRIPTION</th>\n",
       "      <th>DISTRICT</th>\n",
       "      <th>REPORTING_AREA</th>\n",
       "      <th>SHOOTING</th>\n",
       "      <th>OCCURRED_ON_DATE</th>\n",
       "      <th>YEAR</th>\n",
       "      <th>MONTH</th>\n",
       "      <th>DAY_OF_WEEK</th>\n",
       "      <th>HOUR</th>\n",
       "      <th>UCR_PART</th>\n",
       "      <th>STREET</th>\n",
       "      <th>Lat</th>\n",
       "      <th>Long</th>\n",
       "      <th>Location</th>\n",
       "    </tr>\n",
       "  </thead>\n",
       "  <tbody>\n",
       "    <tr>\n",
       "      <th>2</th>\n",
       "      <td>I182070941</td>\n",
       "      <td>3410</td>\n",
       "      <td>Towed</td>\n",
       "      <td>TOWED MOTOR VEHICLE</td>\n",
       "      <td>D4</td>\n",
       "      <td>151</td>\n",
       "      <td>NaN</td>\n",
       "      <td>2018-09-03 19:27:00</td>\n",
       "      <td>2018</td>\n",
       "      <td>9</td>\n",
       "      <td>Monday</td>\n",
       "      <td>19</td>\n",
       "      <td>Part Three</td>\n",
       "      <td>CAZENOVE ST</td>\n",
       "      <td>42.346589</td>\n",
       "      <td>-71.072429</td>\n",
       "      <td>(42.34658879, -71.07242943)</td>\n",
       "    </tr>\n",
       "    <tr>\n",
       "      <th>5</th>\n",
       "      <td>I182070936</td>\n",
       "      <td>3820</td>\n",
       "      <td>Motor Vehicle Accident Response</td>\n",
       "      <td>M/V ACCIDENT INVOLVING PEDESTRIAN - INJURY</td>\n",
       "      <td>C11</td>\n",
       "      <td>398</td>\n",
       "      <td>NaN</td>\n",
       "      <td>2018-09-03 21:09:00</td>\n",
       "      <td>2018</td>\n",
       "      <td>9</td>\n",
       "      <td>Monday</td>\n",
       "      <td>21</td>\n",
       "      <td>Part Three</td>\n",
       "      <td>TALBOT AVE</td>\n",
       "      <td>42.290196</td>\n",
       "      <td>-71.071590</td>\n",
       "      <td>(42.29019621, -71.07159012)</td>\n",
       "    </tr>\n",
       "    <tr>\n",
       "      <th>21</th>\n",
       "      <td>I182070911</td>\n",
       "      <td>3801</td>\n",
       "      <td>Motor Vehicle Accident Response</td>\n",
       "      <td>M/V ACCIDENT - OTHER</td>\n",
       "      <td>A1</td>\n",
       "      <td>69</td>\n",
       "      <td>NaN</td>\n",
       "      <td>2018-09-03 18:30:00</td>\n",
       "      <td>2018</td>\n",
       "      <td>9</td>\n",
       "      <td>Monday</td>\n",
       "      <td>18</td>\n",
       "      <td>Part Three</td>\n",
       "      <td>BEACON ST</td>\n",
       "      <td>42.355644</td>\n",
       "      <td>-71.071681</td>\n",
       "      <td>(42.35564426, -71.07168077)</td>\n",
       "    </tr>\n",
       "    <tr>\n",
       "      <th>23</th>\n",
       "      <td>I182070909</td>\n",
       "      <td>3803</td>\n",
       "      <td>Motor Vehicle Accident Response</td>\n",
       "      <td>M/V ACCIDENT - PERSONAL INJURY</td>\n",
       "      <td>E5</td>\n",
       "      <td>550</td>\n",
       "      <td>NaN</td>\n",
       "      <td>2018-09-03 18:33:00</td>\n",
       "      <td>2018</td>\n",
       "      <td>9</td>\n",
       "      <td>Monday</td>\n",
       "      <td>18</td>\n",
       "      <td>Part Three</td>\n",
       "      <td>WASHINGTON ST</td>\n",
       "      <td>42.275818</td>\n",
       "      <td>-71.139913</td>\n",
       "      <td>(42.27581799, -71.13991259)</td>\n",
       "    </tr>\n",
       "    <tr>\n",
       "      <th>44</th>\n",
       "      <td>I182070886</td>\n",
       "      <td>3802</td>\n",
       "      <td>Motor Vehicle Accident Response</td>\n",
       "      <td>M/V ACCIDENT - PROPERTY  DAMAGE</td>\n",
       "      <td>C11</td>\n",
       "      <td>402</td>\n",
       "      <td>NaN</td>\n",
       "      <td>2018-09-03 15:34:00</td>\n",
       "      <td>2018</td>\n",
       "      <td>9</td>\n",
       "      <td>Monday</td>\n",
       "      <td>15</td>\n",
       "      <td>Part Three</td>\n",
       "      <td>WASHINGTON ST</td>\n",
       "      <td>42.284926</td>\n",
       "      <td>-71.071353</td>\n",
       "      <td>(42.28492596, -71.07135254)</td>\n",
       "    </tr>\n",
       "    <tr>\n",
       "      <th>...</th>\n",
       "      <td>...</td>\n",
       "      <td>...</td>\n",
       "      <td>...</td>\n",
       "      <td>...</td>\n",
       "      <td>...</td>\n",
       "      <td>...</td>\n",
       "      <td>...</td>\n",
       "      <td>...</td>\n",
       "      <td>...</td>\n",
       "      <td>...</td>\n",
       "      <td>...</td>\n",
       "      <td>...</td>\n",
       "      <td>...</td>\n",
       "      <td>...</td>\n",
       "      <td>...</td>\n",
       "      <td>...</td>\n",
       "      <td>...</td>\n",
       "    </tr>\n",
       "    <tr>\n",
       "      <th>318671</th>\n",
       "      <td>I152049505</td>\n",
       "      <td>3803</td>\n",
       "      <td>Motor Vehicle Accident Response</td>\n",
       "      <td>M/V ACCIDENT - PERSONAL INJURY</td>\n",
       "      <td>D4</td>\n",
       "      <td>270</td>\n",
       "      <td>NaN</td>\n",
       "      <td>2015-06-15 08:33:00</td>\n",
       "      <td>2015</td>\n",
       "      <td>6</td>\n",
       "      <td>Monday</td>\n",
       "      <td>8</td>\n",
       "      <td>Part Three</td>\n",
       "      <td>HARRISON AVE</td>\n",
       "      <td>42.332102</td>\n",
       "      <td>-71.079283</td>\n",
       "      <td>(42.33210200, -71.07928300)</td>\n",
       "    </tr>\n",
       "    <tr>\n",
       "      <th>318672</th>\n",
       "      <td>I152049504</td>\n",
       "      <td>3801</td>\n",
       "      <td>Motor Vehicle Accident Response</td>\n",
       "      <td>M/V ACCIDENT - OTHER</td>\n",
       "      <td>D4</td>\n",
       "      <td>154</td>\n",
       "      <td>NaN</td>\n",
       "      <td>2015-06-15 07:34:00</td>\n",
       "      <td>2015</td>\n",
       "      <td>6</td>\n",
       "      <td>Monday</td>\n",
       "      <td>7</td>\n",
       "      <td>Part Three</td>\n",
       "      <td>W NEWTON ST</td>\n",
       "      <td>42.342259</td>\n",
       "      <td>-71.077497</td>\n",
       "      <td>(42.34225888, -71.07749696)</td>\n",
       "    </tr>\n",
       "    <tr>\n",
       "      <th>318676</th>\n",
       "      <td>I152049499</td>\n",
       "      <td>3801</td>\n",
       "      <td>Motor Vehicle Accident Response</td>\n",
       "      <td>M/V ACCIDENT - OTHER</td>\n",
       "      <td>E18</td>\n",
       "      <td>490</td>\n",
       "      <td>NaN</td>\n",
       "      <td>2015-06-15 07:31:00</td>\n",
       "      <td>2015</td>\n",
       "      <td>6</td>\n",
       "      <td>Monday</td>\n",
       "      <td>7</td>\n",
       "      <td>Part Three</td>\n",
       "      <td>CUMMINS HWY</td>\n",
       "      <td>42.275316</td>\n",
       "      <td>-71.110819</td>\n",
       "      <td>(42.27531600, -71.11081942)</td>\n",
       "    </tr>\n",
       "    <tr>\n",
       "      <th>318677</th>\n",
       "      <td>I152049497</td>\n",
       "      <td>3803</td>\n",
       "      <td>Motor Vehicle Accident Response</td>\n",
       "      <td>M/V ACCIDENT - PERSONAL INJURY</td>\n",
       "      <td>E5</td>\n",
       "      <td>564</td>\n",
       "      <td>NaN</td>\n",
       "      <td>2015-06-15 07:10:00</td>\n",
       "      <td>2015</td>\n",
       "      <td>6</td>\n",
       "      <td>Monday</td>\n",
       "      <td>7</td>\n",
       "      <td>Part Three</td>\n",
       "      <td>WASHINGTON ST</td>\n",
       "      <td>42.294924</td>\n",
       "      <td>-71.119107</td>\n",
       "      <td>(42.29492396, -71.11910662)</td>\n",
       "    </tr>\n",
       "    <tr>\n",
       "      <th>318697</th>\n",
       "      <td>I152049472</td>\n",
       "      <td>3410</td>\n",
       "      <td>Towed</td>\n",
       "      <td>TOWED MOTOR VEHICLE</td>\n",
       "      <td>B2</td>\n",
       "      <td>324</td>\n",
       "      <td>NaN</td>\n",
       "      <td>2015-06-15 01:15:00</td>\n",
       "      <td>2015</td>\n",
       "      <td>6</td>\n",
       "      <td>Monday</td>\n",
       "      <td>1</td>\n",
       "      <td>Part Three</td>\n",
       "      <td>DANUBE ST</td>\n",
       "      <td>42.317439</td>\n",
       "      <td>-71.075478</td>\n",
       "      <td>(42.31743922, -71.07547845)</td>\n",
       "    </tr>\n",
       "  </tbody>\n",
       "</table>\n",
       "<p>33490 rows × 17 columns</p>\n",
       "</div>"
      ],
      "text/plain": [
       "       INCIDENT_NUMBER  OFFENSE_CODE               OFFENSE_CODE_GROUP  \\\n",
       "2           I182070941          3410                            Towed   \n",
       "5           I182070936          3820  Motor Vehicle Accident Response   \n",
       "21          I182070911          3801  Motor Vehicle Accident Response   \n",
       "23          I182070909          3803  Motor Vehicle Accident Response   \n",
       "44          I182070886          3802  Motor Vehicle Accident Response   \n",
       "...                ...           ...                              ...   \n",
       "318671      I152049505          3803  Motor Vehicle Accident Response   \n",
       "318672      I152049504          3801  Motor Vehicle Accident Response   \n",
       "318676      I152049499          3801  Motor Vehicle Accident Response   \n",
       "318677      I152049497          3803  Motor Vehicle Accident Response   \n",
       "318697      I152049472          3410                            Towed   \n",
       "\n",
       "                               OFFENSE_DESCRIPTION DISTRICT REPORTING_AREA  \\\n",
       "2                              TOWED MOTOR VEHICLE       D4            151   \n",
       "5       M/V ACCIDENT INVOLVING PEDESTRIAN - INJURY      C11            398   \n",
       "21                            M/V ACCIDENT - OTHER       A1             69   \n",
       "23                  M/V ACCIDENT - PERSONAL INJURY       E5            550   \n",
       "44                 M/V ACCIDENT - PROPERTY  DAMAGE      C11            402   \n",
       "...                                            ...      ...            ...   \n",
       "318671              M/V ACCIDENT - PERSONAL INJURY       D4            270   \n",
       "318672                        M/V ACCIDENT - OTHER       D4            154   \n",
       "318676                        M/V ACCIDENT - OTHER      E18            490   \n",
       "318677              M/V ACCIDENT - PERSONAL INJURY       E5            564   \n",
       "318697                         TOWED MOTOR VEHICLE       B2            324   \n",
       "\n",
       "       SHOOTING     OCCURRED_ON_DATE  YEAR  MONTH DAY_OF_WEEK  HOUR  \\\n",
       "2           NaN  2018-09-03 19:27:00  2018      9      Monday    19   \n",
       "5           NaN  2018-09-03 21:09:00  2018      9      Monday    21   \n",
       "21          NaN  2018-09-03 18:30:00  2018      9      Monday    18   \n",
       "23          NaN  2018-09-03 18:33:00  2018      9      Monday    18   \n",
       "44          NaN  2018-09-03 15:34:00  2018      9      Monday    15   \n",
       "...         ...                  ...   ...    ...         ...   ...   \n",
       "318671      NaN  2015-06-15 08:33:00  2015      6      Monday     8   \n",
       "318672      NaN  2015-06-15 07:34:00  2015      6      Monday     7   \n",
       "318676      NaN  2015-06-15 07:31:00  2015      6      Monday     7   \n",
       "318677      NaN  2015-06-15 07:10:00  2015      6      Monday     7   \n",
       "318697      NaN  2015-06-15 01:15:00  2015      6      Monday     1   \n",
       "\n",
       "          UCR_PART         STREET        Lat       Long  \\\n",
       "2       Part Three    CAZENOVE ST  42.346589 -71.072429   \n",
       "5       Part Three     TALBOT AVE  42.290196 -71.071590   \n",
       "21      Part Three      BEACON ST  42.355644 -71.071681   \n",
       "23      Part Three  WASHINGTON ST  42.275818 -71.139913   \n",
       "44      Part Three  WASHINGTON ST  42.284926 -71.071353   \n",
       "...            ...            ...        ...        ...   \n",
       "318671  Part Three   HARRISON AVE  42.332102 -71.079283   \n",
       "318672  Part Three    W NEWTON ST  42.342259 -71.077497   \n",
       "318676  Part Three    CUMMINS HWY  42.275316 -71.110819   \n",
       "318677  Part Three  WASHINGTON ST  42.294924 -71.119107   \n",
       "318697  Part Three      DANUBE ST  42.317439 -71.075478   \n",
       "\n",
       "                           Location  \n",
       "2       (42.34658879, -71.07242943)  \n",
       "5       (42.29019621, -71.07159012)  \n",
       "21      (42.35564426, -71.07168077)  \n",
       "23      (42.27581799, -71.13991259)  \n",
       "44      (42.28492596, -71.07135254)  \n",
       "...                             ...  \n",
       "318671  (42.33210200, -71.07928300)  \n",
       "318672  (42.34225888, -71.07749696)  \n",
       "318676  (42.27531600, -71.11081942)  \n",
       "318677  (42.29492396, -71.11910662)  \n",
       "318697  (42.31743922, -71.07547845)  \n",
       "\n",
       "[33490 rows x 17 columns]"
      ]
     },
     "execution_count": 16,
     "metadata": {},
     "output_type": "execute_result"
    }
   ],
   "source": [
    "# 4. Welche leichten Straftaten ('Part Tree') benötigen (vermutlich) Verkehrspolizisten?\n",
    "road_crime_string = 'AUTO|PEDESTRIAN|BICYCLE|ACCIDENT|VEHICLE|LICENSE|MOTORCYCLE|SCOOTER|INFLUENCE ALCOHOL'\n",
    "road_part_three_crime = crime.loc[(crime['UCR_PART'] == 'Part Three') & (crime['OFFENSE_DESCRIPTION'].str.contains(road_crime_string))]\n",
    "road_part_three_crime"
   ]
  },
  {
   "cell_type": "code",
   "execution_count": 17,
   "metadata": {},
   "outputs": [
    {
     "data": {
      "text/plain": [
       "WASHINGTON ST        980\n",
       "COMMONWEALTH AVE     885\n",
       "BLUE HILL AVE        776\n",
       "DORCHESTER AVE       590\n",
       "MASSACHUSETTS AVE    477\n",
       "Name: STREET, dtype: int64"
      ]
     },
     "execution_count": 17,
     "metadata": {},
     "output_type": "execute_result"
    }
   ],
   "source": [
    "# 4.1 Welches sind die 5 Straßen, in denen die meisten Verkehrspolizisten benötigt werden?\n",
    "road_part_three_crime['STREET'].value_counts().nlargest(5)"
   ]
  },
  {
   "cell_type": "code",
   "execution_count": 42,
   "metadata": {},
   "outputs": [
    {
     "data": {
      "text/plain": [
       "<AxesSubplot:>"
      ]
     },
     "execution_count": 42,
     "metadata": {},
     "output_type": "execute_result"
    },
    {
     "data": {
      "image/png": "[encoded data removed]",
      "text/plain": [
       "<Figure size 432x288 with 1 Axes>"
      ]
     },
     "metadata": {
      "needs_background": "light"
     },
     "output_type": "display_data"
    }
   ],
   "source": [
    "# 5. Wie hat sich die Anzahl der Schießereien in den letzten Jahren entwickelt?\n",
    "shootings = crime[crime['SHOOTING'] == \"Y\"]\n",
    "shootings.YEAR.value_counts().sort_index().plot.bar()"
   ]
  },
  {
   "cell_type": "code",
   "execution_count": 31,
   "metadata": {},
   "outputs": [
    {
     "data": {
      "text/plain": [
       "0    B2\n",
       "dtype: object"
      ]
     },
     "execution_count": 31,
     "metadata": {},
     "output_type": "execute_result"
    }
   ],
   "source": [
    "# 5.1 In welchem Bezirk finden die meisten Schießereien statt?\n",
    "shootings.DISTRICT.mode()"
   ]
  },
  {
   "cell_type": "code",
   "execution_count": 27,
   "metadata": {},
   "outputs": [
    {
     "data": {
      "text/plain": [
       "0    WASHINGTON ST\n",
       "dtype: object"
      ]
     },
     "execution_count": 27,
     "metadata": {},
     "output_type": "execute_result"
    }
   ],
   "source": [
    "# 5.2 In welcher Straße finden die meisten Schießereien statt?\n",
    "shootings.STREET.mode()"
   ]
  },
  {
   "cell_type": "code",
   "execution_count": 43,
   "metadata": {},
   "outputs": [
    {
     "data": {
      "text/plain": [
       "<AxesSubplot:>"
      ]
     },
     "execution_count": 43,
     "metadata": {},
     "output_type": "execute_result"
    },
    {
     "data": {
      "image/png": "[encoded data removed]",
      "text/plain": [
       "<Figure size 432x288 with 1 Axes>"
      ]
     },
     "metadata": {
      "needs_background": "light"
     },
     "output_type": "display_data"
    }
   ],
   "source": [
    "# 5.3 Zu welchen Uhrzeiten finden die meisten Schießereien statt?\n",
    "shootings.HOUR.value_counts()[:20].plot.bar()"
   ]
  }
 ],
 "metadata": {
  "kernelspec": {
   "display_name": "Python 3",
   "language": "python",
   "name": "python3"
  },
  "language_info": {
   "codemirror_mode": {
    "name": "ipython",
    "version": 3
   },
   "file_extension": ".py",
   "mimetype": "text/x-python",
   "name": "python",
   "nbconvert_exporter": "python",
   "pygments_lexer": "ipython3",
   "version": "3.8.5"
  }
 },
 "nbformat": 4,
 "nbformat_minor": 4
}
